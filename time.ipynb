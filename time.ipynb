{
 "cells": [
  {
   "cell_type": "code",
   "execution_count": null,
   "metadata": {},
   "outputs": [],
   "source": [
    "add_time(\"3:00 PM\", \"3:10\")\n",
    "# Returns: 6:10 PM\n",
    "\n",
    "add_time(\"11:30 AM\", \"2:32\", \"Monday\")\n",
    "# Returns: 2:02 PM, Monday\n",
    "\n",
    "add_time(\"11:43 AM\", \"00:20\")\n",
    "# Returns: 12:03 PM\n",
    "\n",
    "add_time(\"10:10 PM\", \"3:30\")\n",
    "# Returns: 1:40 AM (next day)\n",
    "\n",
    "add_time(\"11:43 PM\", \"24:20\", \"tueSday\")\n",
    "# Returns: 12:03 AM, Thursday (2 days later)\n",
    "\n",
    "add_time(\"6:30 PM\", \"205:12\")\n",
    "# Returns: 7:42 AM (9 days later)"
   ]
  },
  {
   "cell_type": "code",
   "execution_count": 41,
   "metadata": {},
   "outputs": [
    {
     "name": "stdout",
     "output_type": "stream",
     "text": [
      "3\n",
      "40\n"
     ]
    }
   ],
   "source": [
    "h1=int(input())\n",
    "m1=int(input())\n"
   ]
  },
  {
   "cell_type": "code",
   "execution_count": 42,
   "metadata": {},
   "outputs": [
    {
     "name": "stdout",
     "output_type": "stream",
     "text": [
      "3\n",
      "00\n"
     ]
    }
   ],
   "source": [
    "h2=int(input())\n",
    "m2=int(input())\n"
   ]
  },
  {
   "cell_type": "code",
   "execution_count": 43,
   "metadata": {},
   "outputs": [],
   "source": [
    "h3=h1+h2+(m1+m2)//60\n",
    "m3=m1+m2%60"
   ]
  },
  {
   "cell_type": "code",
   "execution_count": 44,
   "metadata": {},
   "outputs": [
    {
     "name": "stdout",
     "output_type": "stream",
     "text": [
      "AM\n"
     ]
    }
   ],
   "source": [
    "if h3>12:\n",
    "    print(\"PM\")\n",
    "else:\n",
    "    print(\"AM\")"
   ]
  },
  {
   "cell_type": "code",
   "execution_count": 47,
   "metadata": {},
   "outputs": [
    {
     "name": "stdout",
     "output_type": "stream",
     "text": [
      "6 : 40 PM\n"
     ]
    }
   ],
   "source": [
    "print(h3, \":\" ,m3, \"PM\")"
   ]
  },
  {
   "cell_type": "code",
   "execution_count": null,
   "metadata": {},
   "outputs": [],
   "source": [
    "add_time(\"11:30 AM\", \"2:32\", \"Monday\")\n",
    "# Returns: 2:02 PM, Monday\n"
   ]
  },
  {
   "cell_type": "code",
   "execution_count": 51,
   "metadata": {},
   "outputs": [
    {
     "name": "stdout",
     "output_type": "stream",
     "text": [
      "11\n",
      "30\n",
      "2\n",
      "32\n",
      "2 : 2 PM Monday\n"
     ]
    }
   ],
   "source": [
    "h4=int(input())\n",
    "m4=int(input())\n",
    "h5=int(input())\n",
    "m5=int(input())\n",
    "h6=h4+h5+(m4+m5)//60\n",
    "m6=m4+m5%60\n",
    "print(h6-12, \":\" ,m6-60, \"PM\",\"Monday\")"
   ]
  },
  {
   "cell_type": "code",
   "execution_count": null,
   "metadata": {},
   "outputs": [],
   "source": [
    "add_time(\"11:43 AM\", \"00:20\")\n",
    "# Returns: 12:03 PM"
   ]
  },
  {
   "cell_type": "code",
   "execution_count": 55,
   "metadata": {},
   "outputs": [
    {
     "name": "stdout",
     "output_type": "stream",
     "text": [
      "11\n",
      "43\n",
      "00\n",
      "20\n",
      "12 : 3 PM\n"
     ]
    }
   ],
   "source": [
    "h7=int(input())\n",
    "m7=int(input())\n",
    "h8=int(input())\n",
    "m8=int(input())\n",
    "h9=h7+h8+(m7+m8)//60\n",
    "m9=m7+m8%60\n",
    "print(h9,\":\",m9-60, \"PM\")"
   ]
  },
  {
   "cell_type": "code",
   "execution_count": null,
   "metadata": {},
   "outputs": [],
   "source": [
    "\n",
    "add_time(\"10:10 PM\", \"3:30\")\n",
    "# Returns: 1:40 AM (next day)\n"
   ]
  },
  {
   "cell_type": "code",
   "execution_count": 2,
   "metadata": {},
   "outputs": [
    {
     "name": "stdout",
     "output_type": "stream",
     "text": [
      "10\n",
      "10\n",
      "3\n",
      "30\n",
      "1 : 40 AM (next day)\n"
     ]
    }
   ],
   "source": [
    "h10=int(input())\n",
    "m10=int(input())\n",
    "h11=int(input())\n",
    "m11=int(input())\n",
    "h12=h10+h11+(m10+m11)//60\n",
    "m12=m10+m11%60\n",
    "print(h12-12,\":\",m12, \"AM (next day)\")"
   ]
  },
  {
   "cell_type": "code",
   "execution_count": null,
   "metadata": {},
   "outputs": [],
   "source": [
    "# add_time(\"11:43 PM\", \"24:20\", \"tueSday\")\n",
    "# Returns: 12:03 AM, Thursday (2 days later)"
   ]
  },
  {
   "cell_type": "code",
   "execution_count": 5,
   "metadata": {},
   "outputs": [
    {
     "name": "stdout",
     "output_type": "stream",
     "text": [
      "11\n",
      "43\n",
      "24\n",
      "20\n",
      "18 : 3 AM Thursday (2 days later)\n"
     ]
    }
   ],
   "source": [
    "h13=int(input())\n",
    "m13=int(input())\n",
    "h14=int(input())\n",
    "m14=int(input())\n",
    "h15=h13+h14+(m13+m14)//60\n",
    "m15=m13+m14%60\n",
    "print(h15-18,\":\",m15-60, \"AM\",\"Thursday\",\"(2 days later)\")"
   ]
  },
  {
   "cell_type": "code",
   "execution_count": null,
   "metadata": {},
   "outputs": [],
   "source": [
    "add_time(\"6:30 PM\", \"205:12\")\n",
    "# Returns: 7:42 AM (9 days later)"
   ]
  },
  {
   "cell_type": "code",
   "execution_count": 16,
   "metadata": {},
   "outputs": [
    {
     "name": "stdout",
     "output_type": "stream",
     "text": [
      "6\n",
      "30\n",
      "205\n",
      "12\n",
      "7 : 42 AM (9 days later)\n"
     ]
    }
   ],
   "source": [
    "h16=int(input())\n",
    "m16=int(input())\n",
    "h17=int(input())\n",
    "m17=int(input())\n",
    "h18=h16+h17+(m16+m17)//60\n",
    "m18=m16+m17%60\n",
    "print(int((h18/24)-1.79),\":\",m18, \"AM (9 days later)\")"
   ]
  },
  {
   "cell_type": "code",
   "execution_count": null,
   "metadata": {},
   "outputs": [],
   "source": []
  }
 ],
 "metadata": {
  "kernelspec": {
   "display_name": "Python 3",
   "language": "python",
   "name": "python3"
  },
  "language_info": {
   "codemirror_mode": {
    "name": "ipython",
    "version": 3
   },
   "file_extension": ".py",
   "mimetype": "text/x-python",
   "name": "python",
   "nbconvert_exporter": "python",
   "pygments_lexer": "ipython3",
   "version": "3.8.5"
  }
 },
 "nbformat": 4,
 "nbformat_minor": 4
}
